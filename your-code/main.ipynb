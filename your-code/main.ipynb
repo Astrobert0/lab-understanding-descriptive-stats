{
 "cells": [
  {
   "cell_type": "markdown",
   "metadata": {},
   "source": [
    "# Understanding Descriptive Statistics\n",
    "\n",
    "Import the necessary libraries here:"
   ]
  },
  {
   "cell_type": "code",
   "execution_count": 1,
   "metadata": {},
   "outputs": [],
   "source": [
    "# Libraries\n",
    "import pandas as pd \n",
    "import numpy as np\n",
    "import matplotlib.pyplot as plt\n",
    "import random"
   ]
  },
  {
   "cell_type": "markdown",
   "metadata": {},
   "source": [
    "## Challenge 1\n",
    "#### 1.- Define a function that simulates rolling a dice 10 times. Save the information in a dataframe.\n",
    "**Hint**: you can use the *choices* function from module *random* to help you with the simulation."
   ]
  },
  {
   "cell_type": "code",
   "execution_count": 2,
   "metadata": {},
   "outputs": [],
   "source": [
    "# your code here\n",
    "def throw(n):\n",
    "    throws = random.choices([1,2,3,4,5,6], k=n)\n",
    "    return pd.DataFrame(throws)"
   ]
  },
  {
   "cell_type": "markdown",
   "metadata": {},
   "source": [
    "#### 2.- Plot the results sorted by value."
   ]
  },
  {
   "cell_type": "code",
   "execution_count": 3,
   "metadata": {},
   "outputs": [
    {
     "data": {
      "text/plain": [
       "[<matplotlib.lines.Line2D at 0x1e7c947f5b0>]"
      ]
     },
     "execution_count": 3,
     "metadata": {},
     "output_type": "execute_result"
    },
    {
     "data": {
      "image/png": "[encoded data removed]",
      "text/plain": [
       "<Figure size 432x288 with 1 Axes>"
      ]
     },
     "metadata": {
      "needs_background": "light"
     },
     "output_type": "display_data"
    }
   ],
   "source": [
    "# your code here\n",
    "dice = throw(10).sort_values(by=0).reset_index()[0]\n",
    "plt.plot(dice)"
   ]
  },
  {
   "cell_type": "markdown",
   "metadata": {},
   "source": [
    "#### 3.- Calculate the frequency distribution and plot it. What is the relation between this plot and the plot above? Describe it with words."
   ]
  },
  {
   "cell_type": "code",
   "execution_count": 4,
   "metadata": {},
   "outputs": [
    {
     "data": {
      "text/plain": [
       "(array([2., 0., 1., 5., 1., 1.]),\n",
       " array([0.5, 1.5, 2.5, 3.5, 4.5, 5.5, 6.5]),\n",
       " <BarContainer object of 6 artists>)"
      ]
     },
     "execution_count": 4,
     "metadata": {},
     "output_type": "execute_result"
    },
    {
     "data": {
      "image/png": "[encoded data removed]",
      "text/plain": [
       "<Figure size 432x288 with 1 Axes>"
      ]
     },
     "metadata": {
      "needs_background": "light"
     },
     "output_type": "display_data"
    }
   ],
   "source": [
    "# your code here\n",
    "plt.hist(dice, bins=6, range=(0.5,6.5))"
   ]
  },
  {
   "cell_type": "code",
   "execution_count": 5,
   "metadata": {},
   "outputs": [
    {
     "data": {
      "text/plain": [
       "'\\nBoth plots indicate the ammount of time each number appeared. In the line plot, the X axis is the iteration\\nof the loop, the Y axis is the dice number, when we see an horizontal line, it indicates that in\\nthose iterations appeared the same dice number. The bar plot it\\'s much simpler, the X axis is the dice\\nnumber and the Y axis the ammount of times that it appeared that value.\\n\\nThe longer the bar or the longer the horizontal line, more times that dice number appeared.\\n\\nAn observation that we can get is if we remove the \".sort_values(by=0)\" in the line plot, we can\\nsee in which iteration appeared the dice number.\\n'"
      ]
     },
     "execution_count": 5,
     "metadata": {},
     "output_type": "execute_result"
    }
   ],
   "source": [
    "\"\"\"\n",
    "Both plots indicate the ammount of time each number appeared. In the line plot, the X axis is the iteration\n",
    "of the loop, the Y axis is the dice number, when we see an horizontal line, it indicates that in\n",
    "those iterations appeared the same dice number. The bar plot it's much simpler, the X axis is the dice\n",
    "number and the Y axis the ammount of times that it appeared that value.\n",
    "\n",
    "The longer the bar or the longer the horizontal line, more times that dice number appeared.\n",
    "\n",
    "An observation that we can get is if we remove the \".sort_values(by=0)\" in the line plot, we can\n",
    "see in which iteration appeared the dice number.\n",
    "\"\"\""
   ]
  },
  {
   "cell_type": "markdown",
   "metadata": {},
   "source": [
    "## Challenge 2\n",
    "Now, using the dice results obtained in *challenge 1*, your are going to define some functions that will help you calculate the mean of your data in two different ways, the median and the four quartiles. \n",
    "\n",
    "#### 1.- Define a function that computes the mean by summing all the observations and dividing by the total number of observations. You are not allowed to use any methods or functions that directly calculate the mean value. "
   ]
  },
  {
   "cell_type": "code",
   "execution_count": 6,
   "metadata": {},
   "outputs": [
    {
     "name": "stdout",
     "output_type": "stream",
     "text": [
      "3.6\n"
     ]
    }
   ],
   "source": [
    "# your code here\n",
    "def mean_calculation(x):\n",
    "    return sum(x)/len(x)\n",
    "print(mean_calculation(dice))"
   ]
  },
  {
   "cell_type": "markdown",
   "metadata": {},
   "source": [
    "#### 2.- First, calculate the frequency distribution. Then, calculate the mean using the values of the frequency distribution you've just computed. You are not allowed to use any methods or functions that directly calculate the mean value. "
   ]
  },
  {
   "cell_type": "code",
   "execution_count": 7,
   "metadata": {},
   "outputs": [
    {
     "data": {
      "text/plain": [
       "3.8"
      ]
     },
     "execution_count": 7,
     "metadata": {},
     "output_type": "execute_result"
    }
   ],
   "source": [
    "# your code here\n",
    "def frequency_dist(x): \n",
    "    frequency_dict = {}\n",
    "    xlist=[number for number in x] #temporary solution to handle series, turns the column to a list\n",
    "    for n in xlist:\n",
    "        frequency_dict[n] = xlist.count(n)\n",
    "    return frequency_dict\n",
    "\n",
    "mean_calculation(frequency_dist(dice))"
   ]
  },
  {
   "cell_type": "markdown",
   "metadata": {},
   "source": [
    "#### 3.- Define a function to calculate the median. You are not allowed to use any methods or functions that directly calculate the median value. \n",
    "**Hint**: you might need to define two computation cases depending on the number of observations used to calculate the median."
   ]
  },
  {
   "cell_type": "code",
   "execution_count": 8,
   "metadata": {},
   "outputs": [
    {
     "data": {
      "text/plain": [
       "4.0"
      ]
     },
     "execution_count": 8,
     "metadata": {},
     "output_type": "execute_result"
    }
   ],
   "source": [
    "# your code here\n",
    "def median_calculation(x):\n",
    "    if len(x)%2 == 0:\n",
    "        location1 = int(len(x)/2)\n",
    "        location2 = location1 - 1\n",
    "        median = (x[location1] + x[location2])/2\n",
    "    else:\n",
    "        location = int((len(x)-1)/2)\n",
    "        median= x[location]\n",
    "    return median\n",
    "        \n",
    "median_calculation(dice)"
   ]
  },
  {
   "cell_type": "markdown",
   "metadata": {},
   "source": [
    "#### 4.- Define a function to calculate the four quartiles. You can use the function you defined above to compute the median but you are not allowed to use any methods or functions that directly calculate the quartiles. "
   ]
  },
  {
   "cell_type": "code",
   "execution_count": 9,
   "metadata": {},
   "outputs": [
    {
     "data": {
      "text/plain": [
       "(1, 4.0, 5.5)"
      ]
     },
     "execution_count": 9,
     "metadata": {},
     "output_type": "execute_result"
    }
   ],
   "source": [
    "# your code here\n",
    "def quart_calculation(x):\n",
    "    Q2 = median_calculation(x)\n",
    "    half1=[]\n",
    "    half2=[]\n",
    "    for number in x:\n",
    "        if number < Q2:\n",
    "            half1.append(number)\n",
    "            Q1 = median_calculation(half1)\n",
    "        elif number > Q2:\n",
    "            half2.append(number)\n",
    "            Q3 = median_calculation(half2)\n",
    "    return Q1,Q2,Q3\n",
    "\n",
    "quart_calculation(dice)\n",
    "            "
   ]
  },
  {
   "cell_type": "markdown",
   "metadata": {},
   "source": [
    "## Challenge 3\n",
    "Read the csv `roll_the_dice_hundred.csv` from the `data` folder.\n",
    "#### 1.- Sort the values and plot them. What do you see?"
   ]
  },
  {
   "cell_type": "code",
   "execution_count": 10,
   "metadata": {},
   "outputs": [
    {
     "data": {
      "text/html": [
       "<div>\n",
       "<style scoped>\n",
       "    .dataframe tbody tr th:only-of-type {\n",
       "        vertical-align: middle;\n",
       "    }\n",
       "\n",
       "    .dataframe tbody tr th {\n",
       "        vertical-align: top;\n",
       "    }\n",
       "\n",
       "    .dataframe thead th {\n",
       "        text-align: right;\n",
       "    }\n",
       "</style>\n",
       "<table border=\"1\" class=\"dataframe\">\n",
       "  <thead>\n",
       "    <tr style=\"text-align: right;\">\n",
       "      <th></th>\n",
       "      <th>Unnamed: 0</th>\n",
       "      <th>roll</th>\n",
       "      <th>value</th>\n",
       "    </tr>\n",
       "  </thead>\n",
       "  <tbody>\n",
       "    <tr>\n",
       "      <th>0</th>\n",
       "      <td>0</td>\n",
       "      <td>0</td>\n",
       "      <td>1</td>\n",
       "    </tr>\n",
       "    <tr>\n",
       "      <th>1</th>\n",
       "      <td>1</td>\n",
       "      <td>1</td>\n",
       "      <td>2</td>\n",
       "    </tr>\n",
       "    <tr>\n",
       "      <th>2</th>\n",
       "      <td>2</td>\n",
       "      <td>2</td>\n",
       "      <td>6</td>\n",
       "    </tr>\n",
       "    <tr>\n",
       "      <th>3</th>\n",
       "      <td>3</td>\n",
       "      <td>3</td>\n",
       "      <td>1</td>\n",
       "    </tr>\n",
       "    <tr>\n",
       "      <th>4</th>\n",
       "      <td>4</td>\n",
       "      <td>4</td>\n",
       "      <td>6</td>\n",
       "    </tr>\n",
       "    <tr>\n",
       "      <th>...</th>\n",
       "      <td>...</td>\n",
       "      <td>...</td>\n",
       "      <td>...</td>\n",
       "    </tr>\n",
       "    <tr>\n",
       "      <th>95</th>\n",
       "      <td>95</td>\n",
       "      <td>95</td>\n",
       "      <td>4</td>\n",
       "    </tr>\n",
       "    <tr>\n",
       "      <th>96</th>\n",
       "      <td>96</td>\n",
       "      <td>96</td>\n",
       "      <td>6</td>\n",
       "    </tr>\n",
       "    <tr>\n",
       "      <th>97</th>\n",
       "      <td>97</td>\n",
       "      <td>97</td>\n",
       "      <td>1</td>\n",
       "    </tr>\n",
       "    <tr>\n",
       "      <th>98</th>\n",
       "      <td>98</td>\n",
       "      <td>98</td>\n",
       "      <td>3</td>\n",
       "    </tr>\n",
       "    <tr>\n",
       "      <th>99</th>\n",
       "      <td>99</td>\n",
       "      <td>99</td>\n",
       "      <td>6</td>\n",
       "    </tr>\n",
       "  </tbody>\n",
       "</table>\n",
       "<p>100 rows × 3 columns</p>\n",
       "</div>"
      ],
      "text/plain": [
       "    Unnamed: 0  roll  value\n",
       "0            0     0      1\n",
       "1            1     1      2\n",
       "2            2     2      6\n",
       "3            3     3      1\n",
       "4            4     4      6\n",
       "..         ...   ...    ...\n",
       "95          95    95      4\n",
       "96          96    96      6\n",
       "97          97    97      1\n",
       "98          98    98      3\n",
       "99          99    99      6\n",
       "\n",
       "[100 rows x 3 columns]"
      ]
     },
     "execution_count": 10,
     "metadata": {},
     "output_type": "execute_result"
    }
   ],
   "source": [
    "# your code here\n",
    "df = pd.read_csv(r'C:\\Users\\Sebas!\\Documents\\GitHub\\lab-understanding-descriptive-stats\\data\\roll_the_dice_hundred.csv')\n",
    "df_sorted = df.sort_values(by= 'Unnamed: 0')\n",
    "#df_sorted.loc[df_sorted['Unnamed: 0'] == df_sorted['roll']]\n",
    "df_sorted"
   ]
  },
  {
   "cell_type": "code",
   "execution_count": 11,
   "metadata": {},
   "outputs": [
    {
     "data": {
      "text/plain": [
       "'\\n-if we sort the dataset with any column, we can see that the column Unnamed: 0 and roll match, this mean\\nthey are the same column\\n'"
      ]
     },
     "execution_count": 11,
     "metadata": {},
     "output_type": "execute_result"
    }
   ],
   "source": [
    "\"\"\"\n",
    "-if we sort the dataset with any column, we can see that the column Unnamed: 0 and roll match, this mean\n",
    "they are the same column\n",
    "\"\"\""
   ]
  },
  {
   "cell_type": "markdown",
   "metadata": {},
   "source": [
    "#### 2.- Using the functions you defined in *challenge 2*, calculate the mean value of the hundred dice rolls."
   ]
  },
  {
   "cell_type": "code",
   "execution_count": 12,
   "metadata": {},
   "outputs": [
    {
     "data": {
      "text/plain": [
       "3.74"
      ]
     },
     "execution_count": 12,
     "metadata": {},
     "output_type": "execute_result"
    }
   ],
   "source": [
    "# your code here\n",
    "mean_calculation(df_sorted['value'])"
   ]
  },
  {
   "cell_type": "markdown",
   "metadata": {},
   "source": [
    "#### 3.- Now, calculate the frequency distribution.\n"
   ]
  },
  {
   "cell_type": "code",
   "execution_count": 13,
   "metadata": {},
   "outputs": [
    {
     "data": {
      "text/plain": [
       "{1: 12, 2: 17, 6: 23, 5: 12, 4: 22, 3: 14}"
      ]
     },
     "execution_count": 13,
     "metadata": {},
     "output_type": "execute_result"
    }
   ],
   "source": [
    "# your code here\n",
    "frequency_dist(df_sorted['value'])"
   ]
  },
  {
   "cell_type": "markdown",
   "metadata": {},
   "source": [
    "#### 4.- Plot the histogram. What do you see (shape, values...) ? How can you connect the mean value to the histogram? "
   ]
  },
  {
   "cell_type": "code",
   "execution_count": 14,
   "metadata": {},
   "outputs": [
    {
     "data": {
      "text/plain": [
       "(array([12., 17., 14., 22., 12., 23.]),\n",
       " array([1.        , 1.83333333, 2.66666667, 3.5       , 4.33333333,\n",
       "        5.16666667, 6.        ]),\n",
       " <BarContainer object of 6 artists>)"
      ]
     },
     "execution_count": 14,
     "metadata": {},
     "output_type": "execute_result"
    },
    {
     "data": {
      "image/png": "[encoded data removed]",
      "text/plain": [
       "<Figure size 432x288 with 1 Axes>"
      ]
     },
     "metadata": {
      "needs_background": "light"
     },
     "output_type": "display_data"
    }
   ],
   "source": [
    "# your code here\n",
    "plt.hist(df_sorted['value'], bins=6)"
   ]
  },
  {
   "cell_type": "code",
   "execution_count": 15,
   "metadata": {},
   "outputs": [
    {
     "data": {
      "text/plain": [
       "'\\nThe mean value is 3.74 this is really close to 4 and is a frequent value, it is not\\nexactly 4 since it is levaraged with the number 6, which is the most frequent in the entire set.\\n'"
      ]
     },
     "execution_count": 15,
     "metadata": {},
     "output_type": "execute_result"
    }
   ],
   "source": [
    "\"\"\"\n",
    "The mean value is 3.74 this is really close to 4 and is a frequent value, it is not\n",
    "exactly 4 since it is levaraged with the number 6, which is the most frequent in the entire set.\n",
    "\"\"\""
   ]
  },
  {
   "cell_type": "markdown",
   "metadata": {},
   "source": [
    "#### 5.- Read the `roll_the_dice_thousand.csv` from the `data` folder. Plot the frequency distribution as you did before. Has anything changed? Why do you think it changed?"
   ]
  },
  {
   "cell_type": "code",
   "execution_count": 16,
   "metadata": {},
   "outputs": [
    {
     "data": {
      "text/plain": [
       "<BarContainer object of 6 artists>"
      ]
     },
     "execution_count": 16,
     "metadata": {},
     "output_type": "execute_result"
    },
    {
     "data": {
      "image/png": "[encoded data removed]",
      "text/plain": [
       "<Figure size 432x288 with 1 Axes>"
      ]
     },
     "metadata": {
      "needs_background": "light"
     },
     "output_type": "display_data"
    }
   ],
   "source": [
    "# your code here\n",
    "df2 = pd.read_csv(r'C:\\Users\\Sebas!\\Documents\\GitHub\\lab-understanding-descriptive-stats\\data\\roll_the_dice_thousand.csv')\n",
    "dist = frequency_dist(df2['value'])\n",
    "key= dist.keys()\n",
    "value= dist.values()\n",
    "plt.bar(key, value)"
   ]
  },
  {
   "cell_type": "code",
   "execution_count": 17,
   "metadata": {},
   "outputs": [
    {
     "data": {
      "text/plain": [
       "'\\n'"
      ]
     },
     "execution_count": 17,
     "metadata": {},
     "output_type": "execute_result"
    }
   ],
   "source": [
    "\"\"\"\n",
    "\"\"\""
   ]
  },
  {
   "cell_type": "markdown",
   "metadata": {},
   "source": [
    "## Challenge 4\n",
    "In the `data` folder of this repository you will find three different files with the prefix `ages_population`. These files contain information about a poll answered by a thousand people regarding their age. Each file corresponds to the poll answers in different neighbourhoods of Barcelona.\n",
    "\n",
    "#### 1.- Read the file `ages_population.csv`. Calculate the frequency distribution and plot it as we did during the lesson. Try to guess the range in which the mean and the standard deviation will be by looking at the plot. "
   ]
  },
  {
   "cell_type": "code",
   "execution_count": 18,
   "metadata": {},
   "outputs": [
    {
     "data": {
      "text/plain": [
       "{1.0: 2,\n",
       " 2.0: 2,\n",
       " 4.0: 1,\n",
       " 5.0: 2,\n",
       " 6.0: 2,\n",
       " 7.0: 1,\n",
       " 8.0: 5,\n",
       " 9.0: 2,\n",
       " 10.0: 3,\n",
       " 11.0: 3,\n",
       " 12.0: 11,\n",
       " 13.0: 6,\n",
       " 14.0: 10,\n",
       " 15.0: 8,\n",
       " 16.0: 8,\n",
       " 17.0: 10,\n",
       " 18.0: 7,\n",
       " 19.0: 11,\n",
       " 20.0: 13,\n",
       " 21.0: 14,\n",
       " 22.0: 16,\n",
       " 23.0: 17,\n",
       " 24.0: 18,\n",
       " 25.0: 19,\n",
       " 26.0: 23,\n",
       " 27.0: 25,\n",
       " 28.0: 20,\n",
       " 29.0: 26,\n",
       " 30.0: 34,\n",
       " 31.0: 24,\n",
       " 32.0: 30,\n",
       " 33.0: 22,\n",
       " 34.0: 29,\n",
       " 35.0: 33,\n",
       " 36.0: 31,\n",
       " 37.0: 30,\n",
       " 38.0: 30,\n",
       " 39.0: 45,\n",
       " 40.0: 27,\n",
       " 41.0: 36,\n",
       " 42.0: 32,\n",
       " 43.0: 32,\n",
       " 44.0: 23,\n",
       " 45.0: 29,\n",
       " 46.0: 23,\n",
       " 47.0: 17,\n",
       " 48.0: 19,\n",
       " 49.0: 19,\n",
       " 50.0: 16,\n",
       " 51.0: 9,\n",
       " 52.0: 14,\n",
       " 53.0: 12,\n",
       " 54.0: 13,\n",
       " 55.0: 13,\n",
       " 56.0: 15,\n",
       " 57.0: 7,\n",
       " 58.0: 7,\n",
       " 59.0: 8,\n",
       " 60.0: 4,\n",
       " 61.0: 2,\n",
       " 62.0: 4,\n",
       " 63.0: 7,\n",
       " 64.0: 2,\n",
       " 65.0: 2,\n",
       " 66.0: 3,\n",
       " 67.0: 4,\n",
       " 68.0: 3,\n",
       " 69.0: 1,\n",
       " 70.0: 1,\n",
       " 71.0: 1,\n",
       " 73.0: 1,\n",
       " 82.0: 1}"
      ]
     },
     "execution_count": 18,
     "metadata": {},
     "output_type": "execute_result"
    }
   ],
   "source": [
    "# your code here\n",
    "df3= pd.read_csv(r'C:\\Users\\Sebas!\\Documents\\GitHub\\lab-understanding-descriptive-stats\\data\\ages_population.csv')\n",
    "frequency_dist(df3['observation'].sort_values())\n",
    "\n",
    "#I guess the mean will be between 30 and 40 years\n",
    "#the standard deviation will be between 15 and 20"
   ]
  },
  {
   "cell_type": "markdown",
   "metadata": {},
   "source": [
    "#### 2.- Calculate the exact mean and standard deviation and compare them with your guesses. Do they fall inside the ranges you guessed?"
   ]
  },
  {
   "cell_type": "code",
   "execution_count": 19,
   "metadata": {},
   "outputs": [
    {
     "name": "stdout",
     "output_type": "stream",
     "text": [
      "36.56\n",
      "12.81649962597677\n"
     ]
    }
   ],
   "source": [
    "# your code here\n",
    "print(mean_calculation(df3['observation'])) \n",
    "print(df3['observation'].std())"
   ]
  },
  {
   "cell_type": "code",
   "execution_count": 20,
   "metadata": {},
   "outputs": [
    {
     "data": {
      "text/plain": [
       "'\\nthe mean fell in our guess but the standard deviation was not under my estimation\\n'"
      ]
     },
     "execution_count": 20,
     "metadata": {},
     "output_type": "execute_result"
    }
   ],
   "source": [
    "\"\"\"\n",
    "the mean fell in our guess but the standard deviation was not under my estimation\n",
    "\"\"\""
   ]
  },
  {
   "cell_type": "markdown",
   "metadata": {},
   "source": [
    "#### 3.- Now read the file `ages_population2.csv` . Calculate the frequency distribution and plot it."
   ]
  },
  {
   "cell_type": "code",
   "execution_count": 21,
   "metadata": {},
   "outputs": [
    {
     "data": {
      "text/plain": [
       "{25.0: 98,\n",
       " 31.0: 61,\n",
       " 29.0: 115,\n",
       " 28.0: 139,\n",
       " 30.0: 90,\n",
       " 24.0: 78,\n",
       " 26.0: 120,\n",
       " 21.0: 17,\n",
       " 27.0: 125,\n",
       " 23.0: 41,\n",
       " 22.0: 35,\n",
       " 32.0: 31,\n",
       " 20.0: 13,\n",
       " 33.0: 22,\n",
       " 19.0: 3,\n",
       " 34.0: 7,\n",
       " 35.0: 3,\n",
       " 36.0: 2}"
      ]
     },
     "execution_count": 21,
     "metadata": {},
     "output_type": "execute_result"
    },
    {
     "data": {
      "image/png": "[encoded data removed]",
      "text/plain": [
       "<Figure size 432x288 with 1 Axes>"
      ]
     },
     "metadata": {
      "needs_background": "light"
     },
     "output_type": "display_data"
    }
   ],
   "source": [
    "# your code here\n",
    "df4 = pd.read_csv(r'C:\\Users\\Sebas!\\Documents\\GitHub\\lab-understanding-descriptive-stats\\data\\ages_population2.csv')\n",
    "dist = frequency_dist(df4['observation'])\n",
    "keys = dist.keys()\n",
    "values= dist.values()\n",
    "plt.bar(keys,values)\n",
    "dist"
   ]
  },
  {
   "cell_type": "markdown",
   "metadata": {},
   "source": [
    "####  4.- What do you see? Is there any difference with the frequency distribution in step 1?"
   ]
  },
  {
   "cell_type": "markdown",
   "metadata": {},
   "source": [
    "\n",
    "yes, the difference is the range of ages between each dataset, the 1st one goes from 1 to 82 and the second one goes from 19 up to 36"
   ]
  },
  {
   "cell_type": "markdown",
   "metadata": {},
   "source": [
    "#### 5.- Calculate the mean and standard deviation. Compare the results with the mean and standard deviation in step 2. What do you think?"
   ]
  },
  {
   "cell_type": "code",
   "execution_count": 22,
   "metadata": {},
   "outputs": [
    {
     "name": "stdout",
     "output_type": "stream",
     "text": [
      "27.155\n",
      "2.9698139326891835\n"
     ]
    }
   ],
   "source": [
    "# your code here\n",
    "print(mean_calculation(df4['observation']))\n",
    "print(df4['observation'].std())"
   ]
  },
  {
   "cell_type": "code",
   "execution_count": 23,
   "metadata": {},
   "outputs": [
    {
     "data": {
      "text/plain": [
       "'\\nHere we can see a clear example of what happens when there is a low std and a high std, if we plot the 1st\\ndataset we can see that the dataset is spread ein a higher range of values, while the 1st one is less spreaded\\n\\n\\n'"
      ]
     },
     "execution_count": 23,
     "metadata": {},
     "output_type": "execute_result"
    }
   ],
   "source": [
    "\"\"\"\n",
    "Here we can see a clear example of what happens when there is a low std and a high std, if we plot the 1st\n",
    "dataset we can see that the dataset is spread ein a higher range of values, while the 1st one is less spreaded\n",
    "\n",
    "\n",
    "\"\"\""
   ]
  },
  {
   "cell_type": "markdown",
   "metadata": {},
   "source": [
    "## Challenge 5\n",
    "Now is the turn of `ages_population3.csv`.\n",
    "\n",
    "#### 1.- Read the file `ages_population3.csv`. Calculate the frequency distribution and plot it."
   ]
  },
  {
   "cell_type": "code",
   "execution_count": 24,
   "metadata": {},
   "outputs": [
    {
     "data": {
      "text/plain": [
       "array([[<AxesSubplot:title={'center':'observation'}>]], dtype=object)"
      ]
     },
     "execution_count": 24,
     "metadata": {},
     "output_type": "execute_result"
    },
    {
     "data": {
      "image/png": "[encoded data removed]",
      "text/plain": [
       "<Figure size 432x288 with 1 Axes>"
      ]
     },
     "metadata": {
      "needs_background": "light"
     },
     "output_type": "display_data"
    }
   ],
   "source": [
    "# your code here\n",
    "df5 = pd.read_csv(r'C:\\Users\\Sebas!\\Documents\\GitHub\\lab-understanding-descriptive-stats\\data\\ages_population3.csv')\n",
    "#dist = frequency_dist(df5['observation'])\n",
    "#plt.figure(figsize= [15.5,10.5])\n",
    "#plt.bar(dist.keys(),dist.values())\n",
    "#dist\n",
    "df5.hist()"
   ]
  },
  {
   "cell_type": "markdown",
   "metadata": {},
   "source": [
    "#### 2.- Calculate the mean and standard deviation. Compare the results with the plot in step 1. What is happening?"
   ]
  },
  {
   "cell_type": "code",
   "execution_count": 25,
   "metadata": {},
   "outputs": [
    {
     "name": "stdout",
     "output_type": "stream",
     "text": [
      "41.989\n",
      "16.14470595986593\n"
     ]
    }
   ],
   "source": [
    "# your code here\n",
    "print(mean_calculation(df5['observation']))\n",
    "print(df5['observation'].std())\n"
   ]
  },
  {
   "cell_type": "code",
   "execution_count": 26,
   "metadata": {},
   "outputs": [
    {
     "data": {
      "text/plain": [
       "'\\n-Looking by the 1st curve, we can see that the curve it is wide and not tall, thus we can consider that the\\nvalue of the std is high, and moving from 1 std we can expect that:\\n    -Q1 and Q3 is near by our range of 1 std.\\n    -68% of our data is between the range of years 26 up to 58 years.\\n\\n-The most frequent year is 32\\n-We have another curve that it is from 62 years up to 77 years this makes our mean and std higher\\n-the coefficient of variation we get 38% \\n    \\n'"
      ]
     },
     "execution_count": 26,
     "metadata": {},
     "output_type": "execute_result"
    }
   ],
   "source": [
    "\"\"\"\n",
    "-Looking by the 1st curve, we can see that the curve it is wide and not tall, thus we can consider that the\n",
    "value of the std is high, and moving from 1 std we can expect that:\n",
    "    -Q1 and Q3 is near by our range of 1 std.\n",
    "    -68% of our data is between the range of years 26 up to 58 years.\n",
    "\n",
    "-The most frequent year is 32\n",
    "-We have another curve that it is from 62 years up to 77 years this makes our mean and std higher\n",
    "-the coefficient of variation we get 38% \n",
    "    \n",
    "\"\"\""
   ]
  },
  {
   "cell_type": "markdown",
   "metadata": {},
   "source": [
    "#### 3.- Calculate the four quartiles. Use the results to explain your reasoning for question in step 2. How much of a difference is there between the median and the mean?"
   ]
  },
  {
   "cell_type": "code",
   "execution_count": 27,
   "metadata": {},
   "outputs": [
    {
     "data": {
      "text/plain": [
       "(29.0, 38.5, 55.0)"
      ]
     },
     "execution_count": 27,
     "metadata": {},
     "output_type": "execute_result"
    }
   ],
   "source": [
    "# your code here\n",
    "quart_calculation(df5['observation'])"
   ]
  },
  {
   "cell_type": "code",
   "execution_count": 28,
   "metadata": {},
   "outputs": [
    {
     "data": {
      "text/plain": [
       "'\\nThis can confirm my previous expectations, the 68% of our data is between the range of 26 and 58, and\\nhalf of our data is in the range of 29 up to 55.\\n\\nThe difference between the median and the mean is 3.989.\\n'"
      ]
     },
     "execution_count": 28,
     "metadata": {},
     "output_type": "execute_result"
    }
   ],
   "source": [
    "\"\"\"\n",
    "This can confirm my previous expectations, the 68% of our data is between the range of 26 and 58, and\n",
    "half of our data is in the range of 29 up to 55.\n",
    "\n",
    "The difference between the median and the mean is 3.989.\n",
    "\"\"\""
   ]
  },
  {
   "cell_type": "markdown",
   "metadata": {},
   "source": [
    "#### 4.- Calculate other percentiles that might be useful to give more arguments to your reasoning."
   ]
  },
  {
   "cell_type": "code",
   "execution_count": 36,
   "metadata": {},
   "outputs": [
    {
     "data": {
      "text/plain": [
       "64.0"
      ]
     },
     "execution_count": 36,
     "metadata": {},
     "output_type": "execute_result"
    }
   ],
   "source": [
    "# your code here\n",
    "sorted_val = df5['observation'].sort_values(ignore_index=True)\n",
    "L85 = (len(sorted_val)+1)*0.85 #850.85\n",
    "sorted_val[851]\n",
    "P85 = sorted_val[850]+0.85*(sorted_val[851]-sorted_val[850])\n",
    "P85\n"
   ]
  },
  {
   "cell_type": "code",
   "execution_count": 30,
   "metadata": {},
   "outputs": [
    {
     "data": {
      "text/plain": [
       "'\\n\\n'"
      ]
     },
     "execution_count": 30,
     "metadata": {},
     "output_type": "execute_result"
    }
   ],
   "source": [
    "\"\"\"\n",
    "\n",
    "\"\"\""
   ]
  },
  {
   "cell_type": "markdown",
   "metadata": {},
   "source": [
    "## Bonus challenge\n",
    "Compare the information about the three neighbourhoods. Prepare a report about the three of them. Remember to find out which are their similarities and their differences backing your arguments in basic statistics."
   ]
  },
  {
   "cell_type": "code",
   "execution_count": 31,
   "metadata": {},
   "outputs": [],
   "source": [
    "# your code here"
   ]
  },
  {
   "cell_type": "code",
   "execution_count": 32,
   "metadata": {},
   "outputs": [
    {
     "data": {
      "text/plain": [
       "'\\nyour comments here\\n'"
      ]
     },
     "execution_count": 32,
     "metadata": {},
     "output_type": "execute_result"
    }
   ],
   "source": [
    "\"\"\"\n",
    "your comments here\n",
    "\"\"\""
   ]
  }
 ],
 "metadata": {
  "kernelspec": {
   "display_name": "Python 3",
   "language": "python",
   "name": "python3"
  },
  "language_info": {
   "codemirror_mode": {
    "name": "ipython",
    "version": 3
   },
   "file_extension": ".py",
   "mimetype": "text/x-python",
   "name": "python",
   "nbconvert_exporter": "python",
   "pygments_lexer": "ipython3",
   "version": "3.8.5"
  }
 },
 "nbformat": 4,
 "nbformat_minor": 2
}
